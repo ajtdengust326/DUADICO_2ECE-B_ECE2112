{
 "cells": [
  {
   "cell_type": "code",
   "execution_count": 19,
   "id": "d693e467-b59a-400c-993b-fee8b0aea119",
   "metadata": {},
   "outputs": [
    {
     "name": "stdout",
     "output_type": "stream",
     "text": [
      "ehllo\n",
      "acehkr\n"
     ]
    }
   ],
   "source": [
    "def alphabet_soup(str):               #defining str\n",
    "    return \"\".join(sorted(str))       #return the string with the sorted function so its sorted in alphabetical order\n",
    "\n",
    "print (alphabet_soup(\"hello\"))        #display\n",
    "print (alphabet_soup(\"hacker\"))"
   ]
  },
  {
   "cell_type": "code",
   "execution_count": 20,
   "id": "242630ba-2a89-4ff2-a8d0-180e6015a7bc",
   "metadata": {},
   "outputs": [
    {
     "name": "stdout",
     "output_type": "stream",
     "text": [
      "Make me :)\n",
      "I am >:(\n",
      "What a :D\n",
      "I am so :(\n"
     ]
    }
   ],
   "source": [
    "def emotify(e):                       #defining e\n",
    "    e = e.replace(\"smile\", \":)\")      #using a string function to change string1 to string string2\n",
    "    e = e.replace(\"grin\", \":D\")\n",
    "    e = e.replace(\"sad\", \":(\")\n",
    "    e = e.replace(\"mad\", \">:(\")\n",
    "    return e\n",
    "\n",
    "print(emotify(\"Make me smile\"))      #display\n",
    "print(emotify(\"I am mad\"))\n",
    "print(emotify(\"What a grin\"))\n",
    "print(emotify(\"I am so sad\"))"
   ]
  },
  {
   "cell_type": "code",
   "execution_count": 26,
   "id": "c7771286-2a85-4855-a008-48a77eed41c0",
   "metadata": {},
   "outputs": [
    {
     "name": "stdout",
     "output_type": "stream",
     "text": [
      "first: [1]\n",
      "middle: [2, 3, 4, 5]\n",
      "last: [6]\n"
     ]
    }
   ],
   "source": [
    "lst = [1, 2, 3, 4, 5, 6]               #list\n",
    "first = [lst[0]]                       #first will be equal to '0' because it corresponds to first elemnt which is 1\n",
    "middle = lst[1:-1]                     #second will be equal to 1: -1 because it is sliced from the list which is 1 the second element and -1 as the last element\n",
    "last = [lst[-1]]                       #last corresponds to -1 because it is the last element which is 6\n",
    "\n",
    "print(\"first:\", first)                 #Display\n",
    "print(\"middle:\", middle)\n",
    "print(\"last:\", last)"
   ]
  }
 ],
 "metadata": {
  "kernelspec": {
   "display_name": "Python [conda env:base] *",
   "language": "python",
   "name": "conda-base-py"
  },
  "language_info": {
   "codemirror_mode": {
    "name": "ipython",
    "version": 3
   },
   "file_extension": ".py",
   "mimetype": "text/x-python",
   "name": "python",
   "nbconvert_exporter": "python",
   "pygments_lexer": "ipython3",
   "version": "3.13.5"
  }
 },
 "nbformat": 4,
 "nbformat_minor": 5
}
